{
 "cells": [
  {
   "cell_type": "markdown",
   "metadata": {},
   "source": [
    "### 確認安裝成功"
   ]
  },
  {
   "cell_type": "code",
   "execution_count": 2,
   "metadata": {},
   "outputs": [
    {
     "name": "stdout",
     "output_type": "stream",
     "text": [
      "Pandas version: 2.2.2\n",
      "\n",
      "Sample DataFrame:\n",
      "       Name  Age\n",
      "0    Alice   25\n",
      "1      Bob   30\n",
      "2  Charlie   35\n"
     ]
    }
   ],
   "source": [
    "import pandas as pd\n",
    "\n",
    "# 檢查 Pandas 版本\n",
    "print(\"Pandas version:\", pd.__version__)\n",
    "\n",
    "# 建立簡單的 DataFrame\n",
    "data = {'Name': ['Alice', 'Bob', 'Charlie'], 'Age': [25, 30, 35]}\n",
    "df = pd.DataFrame(data)\n",
    "\n",
    "# 顯示 DataFrame\n",
    "print(\"\\nSample DataFrame:\\n\", df)"
   ]
  },
  {
   "cell_type": "markdown",
   "metadata": {},
   "source": [
    "### series"
   ]
  },
  {
   "cell_type": "code",
   "execution_count": 3,
   "metadata": {},
   "outputs": [
    {
     "name": "stdout",
     "output_type": "stream",
     "text": [
      "0    1\n",
      "1    3\n",
      "2    5\n",
      "3    7\n",
      "4    9\n",
      "dtype: int64\n"
     ]
    }
   ],
   "source": [
    "s = pd.Series([1, 3, 5, 7, 9])\n",
    "print(s)"
   ]
  },
  {
   "cell_type": "markdown",
   "metadata": {},
   "source": [
    "### dataframe"
   ]
  },
  {
   "cell_type": "code",
   "execution_count": 4,
   "metadata": {},
   "outputs": [
    {
     "name": "stdout",
     "output_type": "stream",
     "text": [
      "      Name  Age         City\n",
      "0    Alice   25     New York\n",
      "1      Bob   30  Los Angeles\n",
      "2  Charlie   35      Chicago\n",
      "3    David   40      Houston\n"
     ]
    }
   ],
   "source": [
    "# 從字典創建 DataFrame\n",
    "data = {'Name': ['Alice', 'Bob', 'Charlie', 'David'],\n",
    "        'Age': [25, 30, 35, 40],\n",
    "        'City': ['New York', 'Los Angeles', 'Chicago', 'Houston']}\n",
    "df = pd.DataFrame(data)\n",
    "print(df)"
   ]
  },
  {
   "cell_type": "code",
   "execution_count": 5,
   "metadata": {},
   "outputs": [
    {
     "name": "stdout",
     "output_type": "stream",
     "text": [
      "5\n",
      "\n",
      "\n",
      "0      Alice\n",
      "1        Bob\n",
      "2    Charlie\n",
      "3      David\n",
      "Name: Name, dtype: object\n"
     ]
    }
   ],
   "source": [
    "# 取得 Series 中的元素\n",
    "print(s[2])\n",
    "\n",
    "print('\\n')\n",
    "# 選擇 DataFrame 中的某一列\n",
    "print(df['Name'])"
   ]
  },
  {
   "cell_type": "markdown",
   "metadata": {},
   "source": [
    "### read_csv"
   ]
  },
  {
   "cell_type": "code",
   "execution_count": 6,
   "metadata": {},
   "outputs": [],
   "source": [
    "df_csv=pd.read_csv('data.csv')"
   ]
  },
  {
   "cell_type": "code",
   "execution_count": 7,
   "metadata": {},
   "outputs": [
    {
     "name": "stdout",
     "output_type": "stream",
     "text": [
      "      Name  Age  Gender           City\n",
      "0     John   25    Male       New York\n",
      "1    Emily   30  Female  San Francisco\n",
      "2  Michael   35    Male        Chicago\n",
      "3   Sophia   28  Female    Los Angeles\n",
      "4   Daniel   40    Male          Miami\n",
      "Index(['Name', 'Age', 'Gender', 'City'], dtype='object')\n",
      "Name      object\n",
      "Age        int64\n",
      "Gender    object\n",
      "City      object\n",
      "dtype: object\n",
      "            Age\n",
      "count  10.00000\n",
      "mean   30.40000\n",
      "std     8.82169\n",
      "min    18.00000\n",
      "25%    25.50000\n",
      "50%    29.00000\n",
      "75%    36.50000\n",
      "max    45.00000\n"
     ]
    }
   ],
   "source": [
    "# 顯示 DataFrame 的前幾行\n",
    "print(df_csv.head())\n",
    "\n",
    "# 檢查列名\n",
    "print(df_csv.columns)\n",
    "\n",
    "# 檢查資料型態\n",
    "print(df_csv.dtypes)\n",
    "\n",
    "# 獲取基本統計資訊\n",
    "print(df_csv.describe())"
   ]
  },
  {
   "cell_type": "markdown",
   "metadata": {},
   "source": [
    "### 選擇行和列"
   ]
  },
  {
   "cell_type": "code",
   "execution_count": 8,
   "metadata": {},
   "outputs": [
    {
     "name": "stdout",
     "output_type": "stream",
     "text": [
      "原資料：\n",
      "   A  B  C\n",
      "0  1  4  7\n",
      "1  2  5  8\n",
      "2  3  6  9\n",
      "\n",
      "選擇資料：\n",
      "   A  B\n",
      "0  1  4\n",
      "1  2  5\n",
      "2  3  6\n"
     ]
    }
   ],
   "source": [
    "# 創建一個範例 DataFrame\n",
    "data = {'A': [1, 2, 3],\n",
    "        'B': [4, 5, 6], \n",
    "        'C': [7, 8, 9]}\n",
    "df=pd.DataFrame(data)\n",
    "print(\"原資料：\")\n",
    "print(df)\n",
    "# 選擇列 \"A\" 和 \"B\"\n",
    "selected_columns=df[['A','B']]\n",
    "print(\"\\n選擇資料：\")\n",
    "print(selected_columns)"
   ]
  },
  {
   "cell_type": "markdown",
   "metadata": {},
   "source": [
    "### 條件篩選"
   ]
  },
  {
   "cell_type": "code",
   "execution_count": 9,
   "metadata": {},
   "outputs": [
    {
     "name": "stdout",
     "output_type": "stream",
     "text": [
      "   A  B  C\n",
      "1  2  5  8\n",
      "2  3  6  9\n"
     ]
    }
   ],
   "source": [
    "filtered_rows=df[df['A']>1]\n",
    "print(filtered_rows)"
   ]
  },
  {
   "cell_type": "markdown",
   "metadata": {},
   "source": [
    "### 索引方法"
   ]
  },
  {
   "cell_type": "code",
   "execution_count": 10,
   "metadata": {},
   "outputs": [
    {
     "data": {
      "text/html": [
       "<div>\n",
       "<style scoped>\n",
       "    .dataframe tbody tr th:only-of-type {\n",
       "        vertical-align: middle;\n",
       "    }\n",
       "\n",
       "    .dataframe tbody tr th {\n",
       "        vertical-align: top;\n",
       "    }\n",
       "\n",
       "    .dataframe thead th {\n",
       "        text-align: right;\n",
       "    }\n",
       "</style>\n",
       "<table border=\"1\" class=\"dataframe\">\n",
       "  <thead>\n",
       "    <tr style=\"text-align: right;\">\n",
       "      <th></th>\n",
       "      <th>A</th>\n",
       "      <th>C</th>\n",
       "    </tr>\n",
       "  </thead>\n",
       "  <tbody>\n",
       "    <tr>\n",
       "      <th>1</th>\n",
       "      <td>2</td>\n",
       "      <td>8</td>\n",
       "    </tr>\n",
       "    <tr>\n",
       "      <th>2</th>\n",
       "      <td>3</td>\n",
       "      <td>9</td>\n",
       "    </tr>\n",
       "  </tbody>\n",
       "</table>\n",
       "</div>"
      ],
      "text/plain": [
       "   A  C\n",
       "1  2  8\n",
       "2  3  9"
      ]
     },
     "execution_count": 10,
     "metadata": {},
     "output_type": "execute_result"
    }
   ],
   "source": [
    "selected_data_loc=df.loc[1:2,['A','C']]\n",
    "selected_data_loc"
   ]
  },
  {
   "cell_type": "code",
   "execution_count": 11,
   "metadata": {},
   "outputs": [
    {
     "data": {
      "text/html": [
       "<div>\n",
       "<style scoped>\n",
       "    .dataframe tbody tr th:only-of-type {\n",
       "        vertical-align: middle;\n",
       "    }\n",
       "\n",
       "    .dataframe tbody tr th {\n",
       "        vertical-align: top;\n",
       "    }\n",
       "\n",
       "    .dataframe thead th {\n",
       "        text-align: right;\n",
       "    }\n",
       "</style>\n",
       "<table border=\"1\" class=\"dataframe\">\n",
       "  <thead>\n",
       "    <tr style=\"text-align: right;\">\n",
       "      <th></th>\n",
       "      <th>A</th>\n",
       "      <th>C</th>\n",
       "    </tr>\n",
       "  </thead>\n",
       "  <tbody>\n",
       "    <tr>\n",
       "      <th>1</th>\n",
       "      <td>2</td>\n",
       "      <td>8</td>\n",
       "    </tr>\n",
       "    <tr>\n",
       "      <th>2</th>\n",
       "      <td>3</td>\n",
       "      <td>9</td>\n",
       "    </tr>\n",
       "  </tbody>\n",
       "</table>\n",
       "</div>"
      ],
      "text/plain": [
       "   A  C\n",
       "1  2  8\n",
       "2  3  9"
      ]
     },
     "execution_count": 11,
     "metadata": {},
     "output_type": "execute_result"
    }
   ],
   "source": [
    "selected_data_iloc=df.iloc[1:3,[0,2]]\n",
    "selected_data_iloc"
   ]
  },
  {
   "cell_type": "markdown",
   "metadata": {},
   "source": [
    "### 移除重複值"
   ]
  },
  {
   "cell_type": "code",
   "execution_count": 14,
   "metadata": {},
   "outputs": [
    {
     "name": "stdout",
     "output_type": "stream",
     "text": [
      "移除前：\n",
      "    Name  Age\n",
      "0   John   25\n",
      "1   Jane   30\n",
      "2   John   25\n",
      "3  Alice   35\n",
      "4    Bob   40\n",
      "5    Bob   40\n",
      "\n",
      "移除後：\n",
      "    Name  Age\n",
      "0   John   25\n",
      "1   Jane   30\n",
      "3  Alice   35\n",
      "4    Bob   40\n"
     ]
    }
   ],
   "source": [
    "data = {'Name': ['John', 'Jane', 'John', 'Alice', 'Bob', 'Bob'],\n",
    "        'Age': [25, 30, 25, 35, 40, 40]}\n",
    "df=pd.DataFrame(data)\n",
    "df_cleaned=df.drop_duplicates()\n",
    "print('移除前：')\n",
    "print(df)\n",
    "print('\\n移除後：')\n",
    "print(df_cleaned)"
   ]
  },
  {
   "cell_type": "markdown",
   "metadata": {},
   "source": [
    "### 處理遺失值"
   ]
  },
  {
   "cell_type": "code",
   "execution_count": 17,
   "metadata": {},
   "outputs": [
    {
     "name": "stdout",
     "output_type": "stream",
     "text": [
      "檢查是否遺失：\n",
      "    Name    Age\n",
      "0  False  False\n",
      "1  False   True\n",
      "2   True  False\n",
      "3  False  False\n",
      "4  False   True\n",
      "\n",
      "填補前：\n",
      "    Name   Age\n",
      "0   John  25.0\n",
      "1   Jane   NaN\n",
      "2    NaN  30.0\n",
      "3  Alice  35.0\n",
      "4    Bob   NaN\n",
      "\n",
      "填補後：\n",
      "    Name   Age\n",
      "0   John  25.0\n",
      "1   Jane  18.0\n",
      "2     18  30.0\n",
      "3  Alice  35.0\n",
      "4    Bob  18.0\n"
     ]
    }
   ],
   "source": [
    "import numpy as np\n",
    "# 帶有遺失值的範例 DataFrame\n",
    "data = {'Name': ['John', 'Jane', np.nan, 'Alice', 'Bob'],\n",
    "        'Age': [25, np.nan, 30, 35, np.nan]}\n",
    "df = pd.DataFrame(data)\n",
    "# 檢查遺失值\n",
    "print('檢查是否遺失：')\n",
    "print(df.isnull())\n",
    "# 使用特定值填充遺失值\n",
    "df_filled=df.fillna(18)\n",
    "print('\\n填補前：')\n",
    "print(df)\n",
    "print('\\n填補後：')\n",
    "print(df_filled)"
   ]
  },
  {
   "cell_type": "markdown",
   "metadata": {},
   "source": [
    "### 數據類型轉換"
   ]
  },
  {
   "cell_type": "code",
   "execution_count": 18,
   "metadata": {},
   "outputs": [
    {
     "name": "stdout",
     "output_type": "stream",
     "text": [
      "轉換前：\n",
      "Name    object\n",
      "Age     object\n",
      "dtype: object\n",
      "\n",
      "轉換後：\n",
      "Name    object\n",
      "Age      int32\n",
      "dtype: object\n"
     ]
    }
   ],
   "source": [
    "# 帶有混合資料類型的範例 DataFrame\n",
    "data = {'Name': ['John', 'Jane', 'Alice', 'Bob'],\n",
    "        'Age': ['25', '30', '35', '40']}\n",
    "df = pd.DataFrame(data)\n",
    "print('轉換前：')\n",
    "print(df.dtypes)\n",
    "# 將 Age 從字串轉換為整數\n",
    "df['Age']=df['Age'].astype(int)\n",
    "print('\\n轉換後：')\n",
    "print(df.dtypes)"
   ]
  },
  {
   "cell_type": "markdown",
   "metadata": {},
   "source": [
    "### 分組聚合"
   ]
  },
  {
   "cell_type": "code",
   "execution_count": 20,
   "metadata": {},
   "outputs": [
    {
     "name": "stdout",
     "output_type": "stream",
     "text": [
      "         Date Product  Quantity Sold  Revenue\n",
      "0  2022-01-01       A            100     5000\n",
      "1  2022-01-01       B            150     7500\n",
      "2  2022-01-02       A            120     6000\n",
      "3  2022-01-02       B            200    10000\n",
      "\n",
      "分組資料：\n",
      "         Quantity Sold  Revenue\n",
      "Product                        \n",
      "A                  220    11000\n",
      "B                  350    17500\n"
     ]
    }
   ],
   "source": [
    "data = {\n",
    "    'Date': ['2022-01-01', '2022-01-01', '2022-01-02', '2022-01-02'],\n",
    "    'Product': ['A', 'B', 'A', 'B'],\n",
    "    'Quantity Sold': [100, 150, 120, 200],\n",
    "    'Revenue': [5000, 7500, 6000, 10000]\n",
    "}\n",
    "df = pd.DataFrame(data)\n",
    "print(df)\n",
    "# 按產品對資料進行分組，然後計算每個產品組的總銷售數量和收入\n",
    "grouped_data=df.groupby('Product').agg({'Quantity Sold':'sum','Revenue':'sum'})\n",
    "print('\\n分組資料：')\n",
    "print(grouped_data)"
   ]
  },
  {
   "cell_type": "markdown",
   "metadata": {},
   "source": [
    "### 應用函式"
   ]
  },
  {
   "cell_type": "code",
   "execution_count": 28,
   "metadata": {},
   "outputs": [
    {
     "data": {
      "text/html": [
       "<div>\n",
       "<style scoped>\n",
       "    .dataframe tbody tr th:only-of-type {\n",
       "        vertical-align: middle;\n",
       "    }\n",
       "\n",
       "    .dataframe tbody tr th {\n",
       "        vertical-align: top;\n",
       "    }\n",
       "\n",
       "    .dataframe thead th {\n",
       "        text-align: right;\n",
       "    }\n",
       "</style>\n",
       "<table border=\"1\" class=\"dataframe\">\n",
       "  <thead>\n",
       "    <tr style=\"text-align: right;\">\n",
       "      <th></th>\n",
       "      <th>Date</th>\n",
       "      <th>Product</th>\n",
       "      <th>Units Sold</th>\n",
       "      <th>Revenue</th>\n",
       "      <th>Profit Margin (%)</th>\n",
       "      <th>Profit</th>\n",
       "      <th>Cost</th>\n",
       "    </tr>\n",
       "  </thead>\n",
       "  <tbody>\n",
       "    <tr>\n",
       "      <th>0</th>\n",
       "      <td>2022-01-01</td>\n",
       "      <td>A</td>\n",
       "      <td>100</td>\n",
       "      <td>5000</td>\n",
       "      <td>20.0</td>\n",
       "      <td>1000</td>\n",
       "      <td>4000</td>\n",
       "    </tr>\n",
       "    <tr>\n",
       "      <th>1</th>\n",
       "      <td>2022-01-01</td>\n",
       "      <td>B</td>\n",
       "      <td>150</td>\n",
       "      <td>7500</td>\n",
       "      <td>20.0</td>\n",
       "      <td>1500</td>\n",
       "      <td>6000</td>\n",
       "    </tr>\n",
       "    <tr>\n",
       "      <th>2</th>\n",
       "      <td>2022-01-02</td>\n",
       "      <td>A</td>\n",
       "      <td>120</td>\n",
       "      <td>6000</td>\n",
       "      <td>25.0</td>\n",
       "      <td>1500</td>\n",
       "      <td>4500</td>\n",
       "    </tr>\n",
       "    <tr>\n",
       "      <th>3</th>\n",
       "      <td>2022-01-02</td>\n",
       "      <td>B</td>\n",
       "      <td>200</td>\n",
       "      <td>10000</td>\n",
       "      <td>20.0</td>\n",
       "      <td>2000</td>\n",
       "      <td>8000</td>\n",
       "    </tr>\n",
       "  </tbody>\n",
       "</table>\n",
       "</div>"
      ],
      "text/plain": [
       "         Date Product  Units Sold  Revenue  Profit Margin (%)  Profit  Cost\n",
       "0  2022-01-01       A         100     5000               20.0    1000  4000\n",
       "1  2022-01-01       B         150     7500               20.0    1500  6000\n",
       "2  2022-01-02       A         120     6000               25.0    1500  4500\n",
       "3  2022-01-02       B         200    10000               20.0    2000  8000"
      ]
     },
     "execution_count": 28,
     "metadata": {},
     "output_type": "execute_result"
    }
   ],
   "source": [
    "# 計算利潤率的函式\n",
    "def calculate_profit_margin(row):\n",
    "    return (row['Revenue']-row['Cost'])/row['Revenue']*100\n",
    "# 將 Cost 欄位加入資料集\n",
    "df['Cost'] = [4000, 6000, 4500, 8000]\n",
    "# 計算利潤率\n",
    "df['Profit Margin (%)'] = df.apply(calculate_profit_margin,axis=1)\n",
    "df"
   ]
  },
  {
   "cell_type": "markdown",
   "metadata": {},
   "source": [
    "### 新增、刪除和重新命名欄位"
   ]
  },
  {
   "cell_type": "code",
   "execution_count": 29,
   "metadata": {},
   "outputs": [
    {
     "data": {
      "text/html": [
       "<div>\n",
       "<style scoped>\n",
       "    .dataframe tbody tr th:only-of-type {\n",
       "        vertical-align: middle;\n",
       "    }\n",
       "\n",
       "    .dataframe tbody tr th {\n",
       "        vertical-align: top;\n",
       "    }\n",
       "\n",
       "    .dataframe thead th {\n",
       "        text-align: right;\n",
       "    }\n",
       "</style>\n",
       "<table border=\"1\" class=\"dataframe\">\n",
       "  <thead>\n",
       "    <tr style=\"text-align: right;\">\n",
       "      <th></th>\n",
       "      <th>Date</th>\n",
       "      <th>Product</th>\n",
       "      <th>Units Sold</th>\n",
       "      <th>Revenue</th>\n",
       "      <th>Profit Margin (%)</th>\n",
       "      <th>Profit</th>\n",
       "    </tr>\n",
       "  </thead>\n",
       "  <tbody>\n",
       "    <tr>\n",
       "      <th>0</th>\n",
       "      <td>2022-01-01</td>\n",
       "      <td>A</td>\n",
       "      <td>100</td>\n",
       "      <td>5000</td>\n",
       "      <td>20.0</td>\n",
       "      <td>1000</td>\n",
       "    </tr>\n",
       "    <tr>\n",
       "      <th>1</th>\n",
       "      <td>2022-01-01</td>\n",
       "      <td>B</td>\n",
       "      <td>150</td>\n",
       "      <td>7500</td>\n",
       "      <td>20.0</td>\n",
       "      <td>1500</td>\n",
       "    </tr>\n",
       "    <tr>\n",
       "      <th>2</th>\n",
       "      <td>2022-01-02</td>\n",
       "      <td>A</td>\n",
       "      <td>120</td>\n",
       "      <td>6000</td>\n",
       "      <td>25.0</td>\n",
       "      <td>1500</td>\n",
       "    </tr>\n",
       "    <tr>\n",
       "      <th>3</th>\n",
       "      <td>2022-01-02</td>\n",
       "      <td>B</td>\n",
       "      <td>200</td>\n",
       "      <td>10000</td>\n",
       "      <td>20.0</td>\n",
       "      <td>2000</td>\n",
       "    </tr>\n",
       "  </tbody>\n",
       "</table>\n",
       "</div>"
      ],
      "text/plain": [
       "         Date Product  Units Sold  Revenue  Profit Margin (%)  Profit\n",
       "0  2022-01-01       A         100     5000               20.0    1000\n",
       "1  2022-01-01       B         150     7500               20.0    1500\n",
       "2  2022-01-02       A         120     6000               25.0    1500\n",
       "3  2022-01-02       B         200    10000               20.0    2000"
      ]
     },
     "execution_count": 29,
     "metadata": {},
     "output_type": "execute_result"
    }
   ],
   "source": [
    "# 加入 Profit 欄位並計算利潤\n",
    "df=df.assign(Profit=df['Revenue']-df['Cost'])\n",
    "# 刪除 Cost 欄位\n",
    "df=df.drop('Cost',axis=1)\n",
    "# 重新命名欄位\n",
    "df=df.rename(columns={'Quantity Sold':'Units Sold'})\n",
    "df\n"
   ]
  },
  {
   "cell_type": "markdown",
   "metadata": {},
   "source": [
    "### 合併不同資料集"
   ]
  },
  {
   "cell_type": "code",
   "execution_count": 30,
   "metadata": {},
   "outputs": [
    {
     "data": {
      "text/html": [
       "<div>\n",
       "<style scoped>\n",
       "    .dataframe tbody tr th:only-of-type {\n",
       "        vertical-align: middle;\n",
       "    }\n",
       "\n",
       "    .dataframe tbody tr th {\n",
       "        vertical-align: top;\n",
       "    }\n",
       "\n",
       "    .dataframe thead th {\n",
       "        text-align: right;\n",
       "    }\n",
       "</style>\n",
       "<table border=\"1\" class=\"dataframe\">\n",
       "  <thead>\n",
       "    <tr style=\"text-align: right;\">\n",
       "      <th></th>\n",
       "      <th>Date</th>\n",
       "      <th>Product</th>\n",
       "      <th>Units Sold</th>\n",
       "      <th>Revenue</th>\n",
       "      <th>Profit Margin (%)</th>\n",
       "      <th>Profit</th>\n",
       "      <th>Product Name</th>\n",
       "      <th>Location</th>\n",
       "    </tr>\n",
       "  </thead>\n",
       "  <tbody>\n",
       "    <tr>\n",
       "      <th>0</th>\n",
       "      <td>2022-01-01</td>\n",
       "      <td>A</td>\n",
       "      <td>100</td>\n",
       "      <td>5000</td>\n",
       "      <td>20.0</td>\n",
       "      <td>1000</td>\n",
       "      <td>Apple</td>\n",
       "      <td>New York</td>\n",
       "    </tr>\n",
       "    <tr>\n",
       "      <th>1</th>\n",
       "      <td>2022-01-01</td>\n",
       "      <td>B</td>\n",
       "      <td>150</td>\n",
       "      <td>7500</td>\n",
       "      <td>20.0</td>\n",
       "      <td>1500</td>\n",
       "      <td>Banana</td>\n",
       "      <td>Los Angeles</td>\n",
       "    </tr>\n",
       "    <tr>\n",
       "      <th>2</th>\n",
       "      <td>2022-01-02</td>\n",
       "      <td>A</td>\n",
       "      <td>120</td>\n",
       "      <td>6000</td>\n",
       "      <td>25.0</td>\n",
       "      <td>1500</td>\n",
       "      <td>Apple</td>\n",
       "      <td>New York</td>\n",
       "    </tr>\n",
       "    <tr>\n",
       "      <th>3</th>\n",
       "      <td>2022-01-02</td>\n",
       "      <td>B</td>\n",
       "      <td>200</td>\n",
       "      <td>10000</td>\n",
       "      <td>20.0</td>\n",
       "      <td>2000</td>\n",
       "      <td>Banana</td>\n",
       "      <td>Los Angeles</td>\n",
       "    </tr>\n",
       "  </tbody>\n",
       "</table>\n",
       "</div>"
      ],
      "text/plain": [
       "         Date Product  Units Sold  Revenue  Profit Margin (%)  Profit  \\\n",
       "0  2022-01-01       A         100     5000               20.0    1000   \n",
       "1  2022-01-01       B         150     7500               20.0    1500   \n",
       "2  2022-01-02       A         120     6000               25.0    1500   \n",
       "3  2022-01-02       B         200    10000               20.0    2000   \n",
       "\n",
       "  Product Name     Location  \n",
       "0        Apple     New York  \n",
       "1       Banana  Los Angeles  \n",
       "2        Apple     New York  \n",
       "3       Banana  Los Angeles  "
      ]
     },
     "execution_count": 30,
     "metadata": {},
     "output_type": "execute_result"
    }
   ],
   "source": [
    "# 範例產品資料\n",
    "product_data = {\n",
    "    'Product': ['A', 'B'],\n",
    "    'Product Name': ['Apple', 'Banana'],\n",
    "    'Location': ['New York', 'Los Angeles']\n",
    "}\n",
    "product_df = pd.DataFrame(product_data)\n",
    "# 根據 Product 欄位合併兩個資料集\n",
    "merged_df = pd.merge(df, product_df, on='Product', how='left')\n",
    "merged_df"
   ]
  },
  {
   "cell_type": "markdown",
   "metadata": {},
   "source": [
    "### 資料輸出"
   ]
  },
  {
   "cell_type": "code",
   "execution_count": 31,
   "metadata": {},
   "outputs": [],
   "source": [
    "# 範例 DataFrame\n",
    "data = {'Name': ['Alice', 'Bob', 'Charlie'],\n",
    "        'Age': [25, 30, 35],\n",
    "        'City': ['New York', 'Los Angeles', 'Chicago']}\n",
    "df = pd.DataFrame(data)\n",
    "# 儲存為 CSV\n",
    "df.to_csv('sample_data.csv')"
   ]
  }
 ],
 "metadata": {
  "kernelspec": {
   "display_name": "base",
   "language": "python",
   "name": "python3"
  },
  "language_info": {
   "codemirror_mode": {
    "name": "ipython",
    "version": 3
   },
   "file_extension": ".py",
   "mimetype": "text/x-python",
   "name": "python",
   "nbconvert_exporter": "python",
   "pygments_lexer": "ipython3",
   "version": "3.12.4"
  }
 },
 "nbformat": 4,
 "nbformat_minor": 2
}
